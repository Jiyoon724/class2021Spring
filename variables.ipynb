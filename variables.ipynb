{
  "nbformat": 4,
  "nbformat_minor": 0,
  "metadata": {
    "kernelspec": {
      "display_name": "Python 3",
      "language": "python",
      "name": "python3"
    },
    "language_info": {
      "codemirror_mode": {
        "name": "ipython",
        "version": 3
      },
      "file_extension": ".py",
      "mimetype": "text/x-python",
      "name": "python",
      "nbconvert_exporter": "python",
      "pygments_lexer": "ipython3",
      "version": "3.7.1"
    },
    "colab": {
      "name": "variables.ipynb",
      "provenance": [],
      "include_colab_link": true
    }
  },
  "cells": [
    {
      "cell_type": "markdown",
      "metadata": {
        "id": "view-in-github",
        "colab_type": "text"
      },
      "source": [
        "<a href=\"https://colab.research.google.com/github/Jiyoon724/class2021Spring/blob/main/variables.ipynb\" target=\"_parent\"><img src=\"https://colab.research.google.com/assets/colab-badge.svg\" alt=\"Open In Colab\"/></a>"
      ]
    },
    {
      "cell_type": "markdown",
      "metadata": {
        "id": "X_xQOTGcgSD0"
      },
      "source": [
        "#0315 영어음성학응용 - variables"
      ]
    },
    {
      "cell_type": "code",
      "metadata": {
        "id": "goAyoU7vRheI",
        "outputId": "c32cc600-3c42-4dc2-b77d-84782e8fe65a"
      },
      "source": [
        "a = 1; print(type(a))"
      ],
      "execution_count": null,
      "outputs": [
        {
          "output_type": "stream",
          "text": [
            "<class 'int'>\n"
          ],
          "name": "stdout"
        }
      ]
    },
    {
      "cell_type": "markdown",
      "metadata": {
        "id": "o4ZeHS8qfauf"
      },
      "source": [
        "> **float, int 함수**\r\n",
        "\r\n",
        "float, int 함수를 통해 정수형, 실수형 데이터를 서로 변환할 수 있음\r\n",
        "\r\n",
        "*int 함수의 논항으로 쓰인 실수형 데이터의 소수 부분은 반올림하여 정수로 출력함\r\n",
        "\r\n"
      ]
    },
    {
      "cell_type": "code",
      "metadata": {
        "id": "txxnoqJuRheJ",
        "outputId": "713e5491-c822-43d7-ec7b-a00348e02708"
      },
      "source": [
        "a = 1; a = float(a); print(type(a))"
      ],
      "execution_count": null,
      "outputs": [
        {
          "output_type": "stream",
          "text": [
            "<class 'float'>\n"
          ],
          "name": "stdout"
        }
      ]
    },
    {
      "cell_type": "code",
      "metadata": {
        "id": "By9UCBctRheK",
        "outputId": "b0e2dc33-a3e3-4801-ffe4-b69ac0c74b13"
      },
      "source": [
        "a = 1.2; a = int(a); print(type(a))"
      ],
      "execution_count": null,
      "outputs": [
        {
          "output_type": "stream",
          "text": [
            "<class 'int'>\n"
          ],
          "name": "stdout"
        }
      ]
    },
    {
      "cell_type": "markdown",
      "metadata": {
        "id": "yIi7U-W_gYfK"
      },
      "source": [
        "▼ 연습1(int)"
      ]
    },
    {
      "cell_type": "code",
      "metadata": {
        "id": "c8rmbqPvgOPw",
        "outputId": "48cae1d4-86e2-4987-9941-df16f0a3ae19",
        "colab": {
          "base_uri": "https://localhost:8080/"
        }
      },
      "source": [
        "a=1.375\r\n",
        "#주피터 노트북은 맨 마지막 명령의 결과 하나만 출력하는데, print 함수를 쓰면 여러 개 출력할 수 있음\r\n",
        "print(type(a))\r\n",
        "int(a)\r\n",
        "print(type(a))\r\n",
        "#-> 함수는 한 번 기능하고 끝이므로 a를 아예 바꾸고 싶으면 함수의 결괏값을 *a에 다시 할당해줘야 함*\r\n",
        "a=int(a)\r\n",
        "print(type(a))"
      ],
      "execution_count": 6,
      "outputs": [
        {
          "output_type": "stream",
          "text": [
            "<class 'float'>\n",
            "<class 'float'>\n",
            "<class 'int'>\n"
          ],
          "name": "stdout"
        }
      ]
    },
    {
      "cell_type": "markdown",
      "metadata": {
        "id": "NIhi2STahqHB"
      },
      "source": [
        "▼ 연습2(float)"
      ]
    },
    {
      "cell_type": "code",
      "metadata": {
        "id": "Q7c993h7hwlh",
        "outputId": "8b06c10c-d44d-4b88-d384-240eb46ce8f2",
        "colab": {
          "base_uri": "https://localhost:8080/"
        }
      },
      "source": [
        "a=149\r\n",
        "print(type(a))\r\n",
        "a=float(a)\r\n",
        "print(a)\r\n",
        "print(type(a))"
      ],
      "execution_count": 8,
      "outputs": [
        {
          "output_type": "stream",
          "text": [
            "<class 'int'>\n",
            "149.0\n",
            "<class 'float'>\n"
          ],
          "name": "stdout"
        }
      ]
    },
    {
      "cell_type": "code",
      "metadata": {
        "id": "org5JG1yjd0C",
        "outputId": "d7f6a4e6-1647-4667-ca5a-2d31bd8b27f2",
        "colab": {
          "base_uri": "https://localhost:8080/"
        }
      },
      "source": [
        "type(float(a))\r\n",
        "#float(a)도 type함수의 논항으로 사용될 수 있음"
      ],
      "execution_count": 9,
      "outputs": [
        {
          "output_type": "execute_result",
          "data": {
            "text/plain": [
              "float"
            ]
          },
          "metadata": {
            "tags": []
          },
          "execution_count": 9
        }
      ]
    },
    {
      "cell_type": "code",
      "metadata": {
        "id": "6NrBH7Iijhtr",
        "outputId": "6ba6888b-a9d1-472b-8b44-683a0bff4ae4",
        "colab": {
          "base_uri": "https://localhost:8080/"
        }
      },
      "source": [
        "print(type(float(a)))"
      ],
      "execution_count": 10,
      "outputs": [
        {
          "output_type": "stream",
          "text": [
            "<class 'float'>\n"
          ],
          "name": "stdout"
        }
      ]
    },
    {
      "cell_type": "markdown",
      "metadata": {
        "id": "BLIaRnExjwvD"
      },
      "source": [
        "> **숫자열과 string, 인덱싱**\r\n",
        "\r\n",
        "숫자와, 숫자에 따옴표를 붙여 만든 문자열(string)을 구분하기!\r\n",
        "\r\n",
        "문자열 변수나 문자열 다음 [ ]를 활용하여 인덱싱 가능, 이때 순서는 **0번째부터 시작**함\r\n"
      ]
    },
    {
      "cell_type": "code",
      "metadata": {
        "id": "SyP0PB86RheL",
        "outputId": "e10d274f-e7fd-4cdd-a822-847fb83560ec"
      },
      "source": [
        "a = '123'; print(type(a)); print(a[1])"
      ],
      "execution_count": null,
      "outputs": [
        {
          "output_type": "stream",
          "text": [
            "<class 'str'>\n",
            "2\n"
          ],
          "name": "stdout"
        }
      ]
    },
    {
      "cell_type": "markdown",
      "metadata": {
        "id": "G-OaiONTkTYu"
      },
      "source": [
        "▼ 연습"
      ]
    },
    {
      "cell_type": "code",
      "metadata": {
        "id": "YMnHmldykpNN",
        "outputId": "9602d04f-bdf1-48e5-9e61-be0406861152",
        "colab": {
          "base_uri": "https://localhost:8080/"
        }
      },
      "source": [
        "a=12345\r\n",
        "b='12345'\r\n",
        "print(type(a))\r\n",
        "print(type(b))"
      ],
      "execution_count": 11,
      "outputs": [
        {
          "output_type": "stream",
          "text": [
            "<class 'int'>\n",
            "<class 'str'>\n"
          ],
          "name": "stdout"
        }
      ]
    },
    {
      "cell_type": "code",
      "metadata": {
        "id": "K3bCoigAkuvm",
        "outputId": "6da79ab6-5591-4b2b-9431-3155c59deee2",
        "colab": {
          "base_uri": "https://localhost:8080/",
          "height": 170
        }
      },
      "source": [
        "#정수형 데이터에서 인덱싱 불가능\r\n",
        "a[0]"
      ],
      "execution_count": 13,
      "outputs": [
        {
          "output_type": "error",
          "ename": "TypeError",
          "evalue": "ignored",
          "traceback": [
            "\u001b[0;31m---------------------------------------------------------------------------\u001b[0m",
            "\u001b[0;31mTypeError\u001b[0m                                 Traceback (most recent call last)",
            "\u001b[0;32m<ipython-input-13-6a1284577a36>\u001b[0m in \u001b[0;36m<module>\u001b[0;34m()\u001b[0m\n\u001b[0;32m----> 1\u001b[0;31m \u001b[0ma\u001b[0m\u001b[0;34m[\u001b[0m\u001b[0;36m0\u001b[0m\u001b[0;34m]\u001b[0m\u001b[0;34m\u001b[0m\u001b[0;34m\u001b[0m\u001b[0m\n\u001b[0m",
            "\u001b[0;31mTypeError\u001b[0m: 'int' object is not subscriptable"
          ]
        }
      ]
    },
    {
      "cell_type": "code",
      "metadata": {
        "id": "6bx5Gn1Ek3gy",
        "outputId": "9d4c9ecc-9f71-451a-bcc5-05a5b687a309",
        "colab": {
          "base_uri": "https://localhost:8080/",
          "height": 188
        }
      },
      "source": [
        "#소수형 데이터에서 인덱싱 불가능\r\n",
        "a=float(a)\r\n",
        "a[0]"
      ],
      "execution_count": 14,
      "outputs": [
        {
          "output_type": "error",
          "ename": "TypeError",
          "evalue": "ignored",
          "traceback": [
            "\u001b[0;31m---------------------------------------------------------------------------\u001b[0m",
            "\u001b[0;31mTypeError\u001b[0m                                 Traceback (most recent call last)",
            "\u001b[0;32m<ipython-input-14-5f8359520357>\u001b[0m in \u001b[0;36m<module>\u001b[0;34m()\u001b[0m\n\u001b[1;32m      1\u001b[0m \u001b[0ma\u001b[0m\u001b[0;34m=\u001b[0m\u001b[0mfloat\u001b[0m\u001b[0;34m(\u001b[0m\u001b[0ma\u001b[0m\u001b[0;34m)\u001b[0m\u001b[0;34m\u001b[0m\u001b[0;34m\u001b[0m\u001b[0m\n\u001b[0;32m----> 2\u001b[0;31m \u001b[0ma\u001b[0m\u001b[0;34m[\u001b[0m\u001b[0;36m0\u001b[0m\u001b[0;34m]\u001b[0m\u001b[0;34m\u001b[0m\u001b[0;34m\u001b[0m\u001b[0m\n\u001b[0m",
            "\u001b[0;31mTypeError\u001b[0m: 'float' object is not subscriptable"
          ]
        }
      ]
    },
    {
      "cell_type": "code",
      "metadata": {
        "id": "eWOAvYIzk7Wr",
        "outputId": "6aacc508-f59a-4ed4-b795-c5ce1e9980de",
        "colab": {
          "base_uri": "https://localhost:8080/",
          "height": 35
        }
      },
      "source": [
        "#문자열 데이터는 인덱싱 가능\r\n",
        "b[0]"
      ],
      "execution_count": 15,
      "outputs": [
        {
          "output_type": "execute_result",
          "data": {
            "application/vnd.google.colaboratory.intrinsic+json": {
              "type": "string"
            },
            "text/plain": [
              "'1'"
            ]
          },
          "metadata": {
            "tags": []
          },
          "execution_count": 15
        }
      ]
    },
    {
      "cell_type": "code",
      "metadata": {
        "id": "K91lFuvpk_KV",
        "outputId": "a1556295-b95d-40f4-8ae0-3a0e0ae78de0",
        "colab": {
          "base_uri": "https://localhost:8080/",
          "height": 259
        }
      },
      "source": [
        "a=str(a)\r\n",
        "print(a)\r\n",
        "print(a[1])\r\n",
        "print(len(a))\r\n",
        "#인덱싱 순서 셀 때 마지막 번호 = (전체길이-1)인 점 유의!(0부터 시작하므로)\r\n",
        "print(a[7])"
      ],
      "execution_count": 23,
      "outputs": [
        {
          "output_type": "stream",
          "text": [
            "12345.0\n",
            "2\n",
            "7\n"
          ],
          "name": "stdout"
        },
        {
          "output_type": "error",
          "ename": "IndexError",
          "evalue": "ignored",
          "traceback": [
            "\u001b[0;31m---------------------------------------------------------------------------\u001b[0m",
            "\u001b[0;31mIndexError\u001b[0m                                Traceback (most recent call last)",
            "\u001b[0;32m<ipython-input-23-ba722f3bd7da>\u001b[0m in \u001b[0;36m<module>\u001b[0;34m()\u001b[0m\n\u001b[1;32m      4\u001b[0m \u001b[0mprint\u001b[0m\u001b[0;34m(\u001b[0m\u001b[0mlen\u001b[0m\u001b[0;34m(\u001b[0m\u001b[0ma\u001b[0m\u001b[0;34m)\u001b[0m\u001b[0;34m)\u001b[0m\u001b[0;34m\u001b[0m\u001b[0;34m\u001b[0m\u001b[0m\n\u001b[1;32m      5\u001b[0m \u001b[0;31m#인덱싱 순서 셀 때 마지막 번호 = (전체길이-1)인 점 유의!(0부터 시작하므로)\u001b[0m\u001b[0;34m\u001b[0m\u001b[0;34m\u001b[0m\u001b[0;34m\u001b[0m\u001b[0m\n\u001b[0;32m----> 6\u001b[0;31m \u001b[0mprint\u001b[0m\u001b[0;34m(\u001b[0m\u001b[0ma\u001b[0m\u001b[0;34m[\u001b[0m\u001b[0;36m7\u001b[0m\u001b[0;34m]\u001b[0m\u001b[0;34m)\u001b[0m\u001b[0;34m\u001b[0m\u001b[0;34m\u001b[0m\u001b[0m\n\u001b[0m",
            "\u001b[0;31mIndexError\u001b[0m: string index out of range"
          ]
        }
      ]
    },
    {
      "cell_type": "code",
      "metadata": {
        "id": "d0_1-49Al482",
        "outputId": "e9d71ced-e747-420f-9da1-d893f20a50cd",
        "colab": {
          "base_uri": "https://localhost:8080/"
        }
      },
      "source": [
        "print(a[6])"
      ],
      "execution_count": 24,
      "outputs": [
        {
          "output_type": "stream",
          "text": [
            "0\n"
          ],
          "name": "stdout"
        }
      ]
    },
    {
      "cell_type": "code",
      "metadata": {
        "id": "UJpOY7y6mwvO",
        "outputId": "4bc2c124-05db-4438-beb9-d1a2b6e44e42",
        "colab": {
          "base_uri": "https://localhost:8080/"
        }
      },
      "source": [
        "c=724\r\n",
        "print(type(str(c)))\r\n",
        "print(len(str(c)))\r\n",
        "print(str(c)[2])\r\n",
        "#함수형태 그대로 논항으로 쓰거나 인덱싱할 수 있음"
      ],
      "execution_count": 37,
      "outputs": [
        {
          "output_type": "stream",
          "text": [
            "<class 'str'>\n",
            "3\n",
            "4\n"
          ],
          "name": "stdout"
        }
      ]
    },
    {
      "cell_type": "markdown",
      "metadata": {
        "id": "iOgEOAEEnUCk"
      },
      "source": [
        "> **list, tuple, dictionary**\r\n",
        "\r\n",
        "문자열 변수에 list함수를 적용하면 각 character가 리스트의 원소 하나하나로 쪼개져 list가 된 해당 변수에 저장됨.\r\n",
        "\r\n",
        "list도 순서를 기준으로 인덱싱 가능"
      ]
    },
    {
      "cell_type": "code",
      "metadata": {
        "id": "byDy9oFERheL",
        "outputId": "bfc3fed4-2c45-4830-a723-0981b1b02914"
      },
      "source": [
        "a = '123'; a = list(a); print(type(a)); print(a); print(a[2])"
      ],
      "execution_count": null,
      "outputs": [
        {
          "output_type": "stream",
          "text": [
            "<class 'list'>\n",
            "['1', '2', '3']\n",
            "3\n"
          ],
          "name": "stdout"
        }
      ]
    },
    {
      "cell_type": "markdown",
      "metadata": {
        "id": "9B7L-swPoS5A"
      },
      "source": [
        "▼ 연습"
      ]
    },
    {
      "cell_type": "code",
      "metadata": {
        "id": "bKFumOYAoSBO",
        "outputId": "51c10f27-fc1e-457f-d295-d9e3a9b98963",
        "colab": {
          "base_uri": "https://localhost:8080/"
        }
      },
      "source": [
        "a=\"I'd like to take some rest.\"\r\n",
        "a=list(a)\r\n",
        "print(a)"
      ],
      "execution_count": 39,
      "outputs": [
        {
          "output_type": "stream",
          "text": [
            "['I', \"'\", 'd', ' ', 'l', 'i', 'k', 'e', ' ', 't', 'o', ' ', 't', 'a', 'k', 'e', ' ', 's', 'o', 'm', 'e', ' ', 'r', 'e', 's', 't', '.']\n"
          ],
          "name": "stdout"
        }
      ]
    },
    {
      "cell_type": "code",
      "metadata": {
        "id": "I4iRdLXbo6tS",
        "outputId": "3aebb362-9a1d-4657-cbcc-7a244dbc9813",
        "colab": {
          "base_uri": "https://localhost:8080/",
          "height": 205
        }
      },
      "source": [
        "#int 데이터는 list함수의 논항이 될 수 없음\r\n",
        "b=1235\r\n",
        "b=list(b)"
      ],
      "execution_count": 41,
      "outputs": [
        {
          "output_type": "error",
          "ename": "TypeError",
          "evalue": "ignored",
          "traceback": [
            "\u001b[0;31m---------------------------------------------------------------------------\u001b[0m",
            "\u001b[0;31mTypeError\u001b[0m                                 Traceback (most recent call last)",
            "\u001b[0;32m<ipython-input-41-f901308b1c6a>\u001b[0m in \u001b[0;36m<module>\u001b[0;34m()\u001b[0m\n\u001b[1;32m      1\u001b[0m \u001b[0;31m#int 데이터는 list함수의 논항이 될 수 없음\u001b[0m\u001b[0;34m\u001b[0m\u001b[0;34m\u001b[0m\u001b[0;34m\u001b[0m\u001b[0m\n\u001b[1;32m      2\u001b[0m \u001b[0mb\u001b[0m\u001b[0;34m=\u001b[0m\u001b[0;36m1235\u001b[0m\u001b[0;34m\u001b[0m\u001b[0;34m\u001b[0m\u001b[0m\n\u001b[0;32m----> 3\u001b[0;31m \u001b[0mb\u001b[0m\u001b[0;34m=\u001b[0m\u001b[0mlist\u001b[0m\u001b[0;34m(\u001b[0m\u001b[0mb\u001b[0m\u001b[0;34m)\u001b[0m\u001b[0;34m\u001b[0m\u001b[0;34m\u001b[0m\u001b[0m\n\u001b[0m",
            "\u001b[0;31mTypeError\u001b[0m: 'int' object is not iterable"
          ]
        }
      ]
    },
    {
      "cell_type": "code",
      "metadata": {
        "id": "rCFLD1SEpGYg",
        "outputId": "79c48a8f-b5ad-46bc-85c7-ab906c3a789e",
        "colab": {
          "base_uri": "https://localhost:8080/",
          "height": 188
        }
      },
      "source": [
        "#float도 list 함수의 논항이 될 수 없음.\r\n",
        "c=123.345\r\n",
        "list(c)"
      ],
      "execution_count": 42,
      "outputs": [
        {
          "output_type": "error",
          "ename": "TypeError",
          "evalue": "ignored",
          "traceback": [
            "\u001b[0;31m---------------------------------------------------------------------------\u001b[0m",
            "\u001b[0;31mTypeError\u001b[0m                                 Traceback (most recent call last)",
            "\u001b[0;32m<ipython-input-42-4634e4e08825>\u001b[0m in \u001b[0;36m<module>\u001b[0;34m()\u001b[0m\n\u001b[1;32m      1\u001b[0m \u001b[0mc\u001b[0m\u001b[0;34m=\u001b[0m\u001b[0;36m123.345\u001b[0m\u001b[0;34m\u001b[0m\u001b[0;34m\u001b[0m\u001b[0m\n\u001b[0;32m----> 2\u001b[0;31m \u001b[0mlist\u001b[0m\u001b[0;34m(\u001b[0m\u001b[0mc\u001b[0m\u001b[0;34m)\u001b[0m\u001b[0;34m\u001b[0m\u001b[0;34m\u001b[0m\u001b[0m\n\u001b[0m",
            "\u001b[0;31mTypeError\u001b[0m: 'float' object is not iterable"
          ]
        }
      ]
    },
    {
      "cell_type": "markdown",
      "metadata": {
        "id": "CX3VTsrdpODN"
      },
      "source": [
        "list의 원소는 어떤 타입의 변수로 구성되든 상관 없음, 리스트 속에 리스트 원소도 가능\r\n",
        "\r\n",
        "이때, **리스트 원소는 원소 하나로** 취급함.\r\n",
        "\r\n",
        "출력할 때 문법 정보(따옴표 같은)는 빼고 내용물만 출력"
      ]
    },
    {
      "cell_type": "code",
      "metadata": {
        "id": "DfS-gknCRheL",
        "outputId": "0cf2a3dd-678f-47ab-b4d6-c62e43e428e5"
      },
      "source": [
        "a = [1,'2', [3, '4']]; print(type(a)); print(a[0]); print(a[1]); print(a[2])"
      ],
      "execution_count": null,
      "outputs": [
        {
          "output_type": "stream",
          "text": [
            "<class 'list'>\n",
            "1\n",
            "2\n",
            "[3, '4']\n"
          ],
          "name": "stdout"
        }
      ]
    },
    {
      "cell_type": "markdown",
      "metadata": {
        "id": "a05sHyHFp01U"
      },
      "source": [
        "tuple은 list와 거의 유사한데 데이터 변경(삽입, 제거 등)이 불가능하므로 데이터적인 측면에서 비교적 안전하다고 할 수 있음"
      ]
    },
    {
      "cell_type": "code",
      "metadata": {
        "id": "wuUZdEnyRheM",
        "outputId": "3f1479d8-f8d2-43b0-b33e-f54ac9e17f6d"
      },
      "source": [
        "a = (1,'2', [3, '4']); print(type(a)); print(a[0]); print(a[1]); print(a[2])"
      ],
      "execution_count": null,
      "outputs": [
        {
          "output_type": "stream",
          "text": [
            "<class 'tuple'>\n",
            "1\n",
            "2\n",
            "[3, '4']\n"
          ],
          "name": "stdout"
        }
      ]
    },
    {
      "cell_type": "markdown",
      "metadata": {
        "id": "wvxe-TEPqJpi"
      },
      "source": [
        "▼ 연습"
      ]
    },
    {
      "cell_type": "code",
      "metadata": {
        "id": "dKKJXOZtqhXT",
        "outputId": "555a8883-1606-4f06-b2a3-448865a77aa4",
        "colab": {
          "base_uri": "https://localhost:8080/"
        }
      },
      "source": [
        "list=['1',2,3.5,\"four\",['five',6,7.0]]\r\n",
        "print(list)"
      ],
      "execution_count": 45,
      "outputs": [
        {
          "output_type": "stream",
          "text": [
            "['1', 2, 3.5, 'four', ['five', 6, 7.0]]\n"
          ],
          "name": "stdout"
        }
      ]
    },
    {
      "cell_type": "code",
      "metadata": {
        "id": "eRBJvVg0qmmy",
        "outputId": "3ce87cdd-8c02-4f9e-89cb-ead2841d07ed",
        "colab": {
          "base_uri": "https://localhost:8080/"
        }
      },
      "source": [
        "print(len(list))\r\n",
        "print(list[4])\r\n",
        "#대괄호 두 개 이으면 리스트 안에 있는 원소 리스트의 인덱싱도 가능\r\n",
        "print(list[4][1])"
      ],
      "execution_count": 48,
      "outputs": [
        {
          "output_type": "stream",
          "text": [
            "5\n",
            "['five', 6, 7.0]\n",
            "6\n"
          ],
          "name": "stdout"
        }
      ]
    },
    {
      "cell_type": "code",
      "metadata": {
        "id": "da5nmWharOv3",
        "outputId": "ada6fd35-8538-4afe-edb8-750a062359bd",
        "colab": {
          "base_uri": "https://localhost:8080/"
        }
      },
      "source": [
        "list=[(\"a\",\"b\",\"c\")]\r\n",
        "print(list)\r\n",
        "print(len(list))\r\n",
        "#튜플도 인덱싱 마찬가지\r\n",
        "print(list[0])\r\n",
        "print(list[0][1])"
      ],
      "execution_count": 53,
      "outputs": [
        {
          "output_type": "stream",
          "text": [
            "[('a', 'b', 'c')]\n",
            "1\n",
            "('a', 'b', 'c')\n",
            "b\n"
          ],
          "name": "stdout"
        }
      ]
    },
    {
      "cell_type": "markdown",
      "metadata": {
        "id": "0c-Fo76xrKjc"
      },
      "source": [
        "딕셔너리\r\n",
        "\r\n",
        "중괄호로 묶음, 쉼표로 구분, 콜론으로 사전처럼 설명하는 듯한 형태\r\n",
        "\r\n",
        "딕셔너리는 네이밍과 순서가 없으므로, 순서 무시\r\n",
        "\r\n",
        "딕셔너리는 대괄호에 key를 넣어 개별 데이터에 접근함"
      ]
    },
    {
      "cell_type": "code",
      "metadata": {
        "id": "2sivfloGRheM",
        "outputId": "5c768bb7-e02b-4c87-a76e-3e992cdb244e"
      },
      "source": [
        "a =\t{\"a\": \"apple\", \"b\": \"orange\", \"c\": 2014}\n",
        "print(type(a))\n",
        "print(a[\"a\"])"
      ],
      "execution_count": null,
      "outputs": [
        {
          "output_type": "stream",
          "text": [
            "<class 'dict'>\n",
            "apple\n"
          ],
          "name": "stdout"
        }
      ]
    },
    {
      "cell_type": "markdown",
      "metadata": {
        "id": "bBgWn_VxsCZS"
      },
      "source": [
        "▼ 연습"
      ]
    },
    {
      "cell_type": "code",
      "metadata": {
        "id": "O1o4uZVtsQZJ",
        "outputId": "01070ee4-5859-44a7-fc4e-a18f73a48876",
        "colab": {
          "base_uri": "https://localhost:8080/"
        }
      },
      "source": [
        "Jang={\"name\": \"Jiyoon\", \"age\":22, \"major\":\"Media&Communication\", \"favorite colors\":(\"yellow\",\"purple\",\"blue\")}\r\n",
        "print(Jang)"
      ],
      "execution_count": 56,
      "outputs": [
        {
          "output_type": "stream",
          "text": [
            "{'name': 'Jiyoon', 'age': 22, 'major': 'Media&Communication', 'favorite colors': ('yellow', 'purple', 'blue')}\n"
          ],
          "name": "stdout"
        }
      ]
    },
    {
      "cell_type": "code",
      "metadata": {
        "id": "oCfmPSSmsiV3",
        "outputId": "2a3bd89d-d30c-49ea-82c5-7d68ed36b6ec",
        "colab": {
          "base_uri": "https://localhost:8080/",
          "height": 170
        }
      },
      "source": [
        "#딕셔너리: 인덱싱x\r\n",
        "Jang[0]"
      ],
      "execution_count": 57,
      "outputs": [
        {
          "output_type": "error",
          "ename": "KeyError",
          "evalue": "ignored",
          "traceback": [
            "\u001b[0;31m---------------------------------------------------------------------------\u001b[0m",
            "\u001b[0;31mKeyError\u001b[0m                                  Traceback (most recent call last)",
            "\u001b[0;32m<ipython-input-57-fe2d7799af44>\u001b[0m in \u001b[0;36m<module>\u001b[0;34m()\u001b[0m\n\u001b[0;32m----> 1\u001b[0;31m \u001b[0mJang\u001b[0m\u001b[0;34m[\u001b[0m\u001b[0;36m0\u001b[0m\u001b[0;34m]\u001b[0m\u001b[0;34m\u001b[0m\u001b[0;34m\u001b[0m\u001b[0m\n\u001b[0m",
            "\u001b[0;31mKeyError\u001b[0m: 0"
          ]
        }
      ]
    },
    {
      "cell_type": "code",
      "metadata": {
        "id": "SiNiqTd4soGY",
        "outputId": "bd1ce6e7-b90e-483d-91ab-bc9c781fb6ca",
        "colab": {
          "base_uri": "https://localhost:8080/",
          "height": 35
        }
      },
      "source": [
        "#안에 있는 key: 변수가 아니므로 *따옴표* 써주기\r\n",
        "Jang[\"name\"]"
      ],
      "execution_count": 59,
      "outputs": [
        {
          "output_type": "execute_result",
          "data": {
            "application/vnd.google.colaboratory.intrinsic+json": {
              "type": "string"
            },
            "text/plain": [
              "'Jiyoon'"
            ]
          },
          "metadata": {
            "tags": []
          },
          "execution_count": 59
        }
      ]
    },
    {
      "cell_type": "code",
      "metadata": {
        "id": "9tfYZggNs4gI",
        "outputId": "f09de9f6-d4d2-477c-836a-3bbed9309218",
        "colab": {
          "base_uri": "https://localhost:8080/",
          "height": 35
        }
      },
      "source": [
        "#튜플이나 리스트 안에 있는 값은 인덱싱 가능\r\n",
        "Jang[\"favorite colors\"][0]"
      ],
      "execution_count": 60,
      "outputs": [
        {
          "output_type": "execute_result",
          "data": {
            "application/vnd.google.colaboratory.intrinsic+json": {
              "type": "string"
            },
            "text/plain": [
              "'yellow'"
            ]
          },
          "metadata": {
            "tags": []
          },
          "execution_count": 60
        }
      ]
    },
    {
      "cell_type": "code",
      "metadata": {
        "id": "SuDOEOW0tEzM",
        "outputId": "61081a7a-ee39-49f6-fdec-3f641717d1aa",
        "colab": {
          "base_uri": "https://localhost:8080/",
          "height": 205
        }
      },
      "source": [
        "#key에 value를 새롭게 할당하여 딕셔너리 안의 내용을 바꿀 수 있음\r\n",
        "#대괄호와 등호를 사용\r\n",
        "#튜플 내에서 내용 수정 불가\r\n",
        "Jang[\"favorite colors\"][0]=\"brown\"\r\n",
        "print(Jang[\"favorite colors\"])"
      ],
      "execution_count": 61,
      "outputs": [
        {
          "output_type": "error",
          "ename": "TypeError",
          "evalue": "ignored",
          "traceback": [
            "\u001b[0;31m---------------------------------------------------------------------------\u001b[0m",
            "\u001b[0;31mTypeError\u001b[0m                                 Traceback (most recent call last)",
            "\u001b[0;32m<ipython-input-61-1f5801230ddf>\u001b[0m in \u001b[0;36m<module>\u001b[0;34m()\u001b[0m\n\u001b[1;32m      1\u001b[0m \u001b[0;31m#key에 value를 새롭게 할당하여 딕셔너리 안의 내용을 바꿀 수 있음\u001b[0m\u001b[0;34m\u001b[0m\u001b[0;34m\u001b[0m\u001b[0;34m\u001b[0m\u001b[0m\n\u001b[0;32m----> 2\u001b[0;31m \u001b[0mJang\u001b[0m\u001b[0;34m[\u001b[0m\u001b[0;34m\"favorite colors\"\u001b[0m\u001b[0;34m]\u001b[0m\u001b[0;34m[\u001b[0m\u001b[0;36m0\u001b[0m\u001b[0;34m]\u001b[0m\u001b[0;34m=\u001b[0m\u001b[0;34m\"brown\"\u001b[0m\u001b[0;34m\u001b[0m\u001b[0;34m\u001b[0m\u001b[0m\n\u001b[0m\u001b[1;32m      3\u001b[0m \u001b[0mprint\u001b[0m\u001b[0;34m(\u001b[0m\u001b[0mJang\u001b[0m\u001b[0;34m[\u001b[0m\u001b[0;34m\"favorite colors\"\u001b[0m\u001b[0;34m]\u001b[0m\u001b[0;34m)\u001b[0m\u001b[0;34m\u001b[0m\u001b[0;34m\u001b[0m\u001b[0m\n",
            "\u001b[0;31mTypeError\u001b[0m: 'tuple' object does not support item assignment"
          ]
        }
      ]
    },
    {
      "cell_type": "code",
      "metadata": {
        "id": "1a57KVXtuC1l",
        "outputId": "c959a5a1-602d-489f-d3e0-cc0d2d146bca",
        "colab": {
          "base_uri": "https://localhost:8080/"
        }
      },
      "source": [
        "Jang[\"major\"]=\"Media\"\r\n",
        "Jang[\"favorite colors\"]=[\"yellow\",\"purple\",\"blue\"]\r\n",
        "# *리스트 안에 문자열 입력할 때, 딕셔너리 key 입력할 때 따옴표 까먹지 말 것\r\n",
        "print(Jang)"
      ],
      "execution_count": 69,
      "outputs": [
        {
          "output_type": "stream",
          "text": [
            "{'name': 'Jiyoon', 'age': 22, 'major': 'Media', 'favorite colors': ['yellow', 'purple', 'blue']}\n"
          ],
          "name": "stdout"
        }
      ]
    },
    {
      "cell_type": "code",
      "metadata": {
        "id": "O0SH0fyquVZb",
        "outputId": "af65427b-217e-4e47-bf0d-94bb8f849e3c",
        "colab": {
          "base_uri": "https://localhost:8080/"
        }
      },
      "source": [
        "print(Jang[\"favorite colors\"][0]); Jang[\"favorite colors\"][2]=\"charcoal\"; print(Jang)"
      ],
      "execution_count": 71,
      "outputs": [
        {
          "output_type": "stream",
          "text": [
            "yellow\n",
            "{'name': 'Jiyoon', 'age': 22, 'major': 'Media', 'favorite colors': ['yellow', 'purple', 'charcoal']}\n"
          ],
          "name": "stdout"
        }
      ]
    },
    {
      "cell_type": "code",
      "metadata": {
        "id": "A7teRXuCRheN",
        "outputId": "79a99306-d858-4682-a61e-a21c74bd903d"
      },
      "source": [
        "a=[(1,2,3), (3,8,0)]\n",
        "print(type(a))\n",
        "a"
      ],
      "execution_count": null,
      "outputs": [
        {
          "output_type": "stream",
          "text": [
            "<class 'list'>\n"
          ],
          "name": "stdout"
        },
        {
          "output_type": "execute_result",
          "data": {
            "text/plain": [
              "[(1, 2, 3), (3, 8, 0)]"
            ]
          },
          "metadata": {
            "tags": []
          },
          "execution_count": 27
        }
      ]
    }
  ]
}