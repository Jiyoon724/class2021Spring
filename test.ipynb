{
  "nbformat": 4,
  "nbformat_minor": 0,
  "metadata": {
    "colab": {
      "name": "test.ipynb",
      "provenance": [],
      "authorship_tag": "ABX9TyPfaHlnqKEPvnktDOTdzSTc",
      "include_colab_link": true
    },
    "kernelspec": {
      "name": "python3",
      "display_name": "Python 3"
    }
  },
  "cells": [
    {
      "cell_type": "markdown",
      "metadata": {
        "id": "view-in-github",
        "colab_type": "text"
      },
      "source": [
        "<a href=\"https://colab.research.google.com/github/Jiyoon724/class2021Spring/blob/main/test.ipynb\" target=\"_parent\"><img src=\"https://colab.research.google.com/assets/colab-badge.svg\" alt=\"Open In Colab\"/></a>"
      ]
    },
    {
      "cell_type": "markdown",
      "metadata": {
        "id": "heS4ZenpUHFw"
      },
      "source": [
        "#0308 영어음성학응용\r\n",
        "**github 계정 만들기, login 해서 repository 만들기(class2021Spring)**\r\n",
        "\r\n",
        "\r\n",
        "1. python\r\n",
        "2. markdown(이렇게 적는 것)\r\n",
        "\r\n",
        "ipynb 형태 자체 = jupyter notebook\r\n",
        "\r\n",
        "jupyter notebook\r\n",
        "\r\n",
        "1.   코드\r\n",
        "2.   텍스트\r\n",
        "\r\n",
        "\r\n",
        "\r\n",
        "\r\n",
        "\r\n"
      ]
    },
    {
      "cell_type": "code",
      "metadata": {
        "colab": {
          "base_uri": "https://localhost:8080/"
        },
        "id": "kOIT1jKDV2yw",
        "outputId": "57beadd2-0fd0-45fe-e4a3-6be94c278116"
      },
      "source": [
        "a=1\r\n",
        "b=1\r\n",
        "c=a+b\r\n",
        "c\r\n"
      ],
      "execution_count": 1,
      "outputs": [
        {
          "output_type": "execute_result",
          "data": {
            "text/plain": [
              "2"
            ]
          },
          "metadata": {
            "tags": []
          },
          "execution_count": 1
        }
      ]
    },
    {
      "cell_type": "markdown",
      "metadata": {
        "id": "HOMqeomoWm7_"
      },
      "source": [
        "저장은 github, colab은 editing\r\n",
        "\r\n",
        "colab은 구글에서 만들었고, 이러한 환경을 jupyter notebook이라고 한다. 웹 상에서 코드와 텍스트를 사용할 수 있다. 구글이 아닌 마이크로소프트나 ibm, 아마존 등에서도 jupyter notebook을 사용할 수 있다.(jupyter notebook=/=colab)\r\n",
        "\r\n",
        "Print 기능을 통해 pdf 파일로 내보낼 수 있음\r\n",
        "\r\n",
        "jupyter notebook에서 저장되는 파일의 형식은 ipynb"
      ]
    }
  ]
}