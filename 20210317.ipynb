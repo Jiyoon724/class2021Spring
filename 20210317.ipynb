{
  "nbformat": 4,
  "nbformat_minor": 0,
  "metadata": {
    "colab": {
      "name": "20210317",
      "provenance": [],
      "authorship_tag": "ABX9TyOSeZAjcl9m7XPex9hD6icV",
      "include_colab_link": true
    },
    "kernelspec": {
      "name": "python3",
      "display_name": "Python 3"
    }
  },
  "cells": [
    {
      "cell_type": "markdown",
      "metadata": {
        "id": "view-in-github",
        "colab_type": "text"
      },
      "source": [
        "<a href=\"https://colab.research.google.com/github/Jiyoon724/class2021Spring/blob/main/20210317.ipynb\" target=\"_parent\"><img src=\"https://colab.research.google.com/assets/colab-badge.svg\" alt=\"Open In Colab\"/></a>"
      ]
    },
    {
      "cell_type": "code",
      "metadata": {
        "colab": {
          "base_uri": "https://localhost:8080/"
        },
        "id": "G0JeivjNuaRh",
        "outputId": "f2f6915b-b86c-4ff2-bc98-66d70cfbb50d"
      },
      "source": [
        "#실습1. 이중 for + if\r\n",
        "a=[\"0315\",\"0317\",\"0322\",\"0324\"]\r\n",
        "for i in a:\r\n",
        "  for j in range(0,4):\r\n",
        "    if j%2==0:\r\n",
        "      print(\"Wednesday\",a[j])"
      ],
      "execution_count": 19,
      "outputs": [
        {
          "output_type": "stream",
          "text": [
            "Wednesday 0315\n",
            "Wednesday 0322\n",
            "Wednesday 0315\n",
            "Wednesday 0322\n",
            "Wednesday 0315\n",
            "Wednesday 0322\n",
            "Wednesday 0315\n",
            "Wednesday 0322\n"
          ],
          "name": "stdout"
        }
      ]
    },
    {
      "cell_type": "code",
      "metadata": {
        "colab": {
          "base_uri": "https://localhost:8080/"
        },
        "id": "xPXtF1tWuhYg",
        "outputId": "70d35b83-e95b-4d39-bb03-3c6132542442"
      },
      "source": [
        "#실습2. loop-list\r\n",
        "a=[1,2,3,4,5]\r\n",
        "b=[i for i in a if i>3]\r\n",
        "print(b)"
      ],
      "execution_count": 12,
      "outputs": [
        {
          "output_type": "stream",
          "text": [
            "[4, 5]\n"
          ],
          "name": "stdout"
        }
      ]
    }
  ]
}