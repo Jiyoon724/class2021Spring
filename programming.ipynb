{
  "nbformat": 4,
  "nbformat_minor": 0,
  "metadata": {
    "colab": {
      "name": "programming.ipynb",
      "provenance": [],
      "authorship_tag": "ABX9TyOeLQ1Zcwyms14D9KYUGZZS",
      "include_colab_link": true
    },
    "kernelspec": {
      "name": "python3",
      "display_name": "Python 3"
    }
  },
  "cells": [
    {
      "cell_type": "markdown",
      "metadata": {
        "id": "view-in-github",
        "colab_type": "text"
      },
      "source": [
        "<a href=\"https://colab.research.google.com/github/Jiyoon724/class2021Spring/blob/main/programming.ipynb\" target=\"_parent\"><img src=\"https://colab.research.google.com/assets/colab-badge.svg\" alt=\"Open In Colab\"/></a>"
      ]
    },
    {
      "cell_type": "markdown",
      "metadata": {
        "id": "mI727oeDh145"
      },
      "source": [
        "#0310 영어음성학응용\r\n"
      ]
    },
    {
      "cell_type": "markdown",
      "metadata": {
        "id": "u8Pm6xYnh7OY"
      },
      "source": [
        "> **프로그래밍 언어**\r\n",
        "\r\n",
        "\r\n",
        "\r\n",
        "인간의 언어: 단어+문법(언어에 개념 부과)\r\n",
        "\r\n",
        "컴퓨터 언어:\r\n",
        "\r\n",
        "1. 단어(=변수)\r\n",
        "\r\n",
        "변수에 내용을 할당(내용을 만든다)\r\n",
        "\r\n",
        "* '=' sign은 **같다는 뜻(x)**, 오른쪽의 내용을 왼쪽에 assign\r\n",
        "\r\n",
        "* 단어-변수\r\n",
        "\r\n",
        "어떻게 정의하는지?\r\n",
        "\r\n",
        "-\r\n",
        "\r\n",
        "\r\n",
        "\r\n",
        "2. 문법(=제어문) ex) 인간 언어: 어순, 조사... 지켜야 말이 됨\r\n",
        "\r\n",
        "(1) **반복**: for(for 내부의 명령을 반복)\r\n",
        "\r\n",
        "ex) for 100 / print(1) -> 1 출력을 100번 반복\r\n",
        "\r\n",
        "\r\n",
        "\r\n",
        "(2) **조건**: if\r\n",
        "\r\n",
        "ex) a=1 / if a==1 / print(3) -> a가 1이므로 3을 출력\r\n",
        "\r\n",
        "*'==': 같다('='과 다름)\r\n",
        "\r\n",
        "-\r\n",
        "\r\n",
        "3. 함수: **입출력 관계에서 입력(input)과 출력(output) 사이에 '변형'이 있는 것(변환관계, 일종의 모듈)**\r\n",
        "\r\n",
        "y(출력)=f(x(입력))\r\n",
        "\r\n",
        "ex) 일차함수 y=3x+5 : 함수의 원천\r\n",
        "\r\n",
        "*수학적이지 않더라도 함수가 될 수 있다\r\n",
        "\r\n",
        "ex) 인간의 몸[음식물, 감각, 외부 정보/자극... -> 변경 -> 여러 출력(배설, 대답/반응...)]\r\n",
        "\r\n",
        "자동차[운전(브레이크...) -> 변경 -> 움직임]\r\n",
        "\r\n",
        "AI음성인식[소리 -> 변경 -> 텍스트]\r\n",
        "\r\n",
        "네이버/구글렌즈[이미지 -> 변경 -> 텍스트]\r\n",
        "\r\n",
        "*AI 인공신경망: 일차함수의 네트워크\r\n",
        "\r\n",
        "**컴퓨터의 함수**\r\n",
        "\r\n",
        "def add*-> 정의 필요* (a,b *-> input값*) / c=a+b / print(c)\r\n"
      ]
    }
  ]
}