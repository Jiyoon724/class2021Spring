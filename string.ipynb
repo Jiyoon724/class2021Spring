{
  "nbformat": 4,
  "nbformat_minor": 0,
  "metadata": {
    "kernelspec": {
      "display_name": "Python 3",
      "language": "python",
      "name": "python3"
    },
    "language_info": {
      "codemirror_mode": {
        "name": "ipython",
        "version": 3
      },
      "file_extension": ".py",
      "mimetype": "text/x-python",
      "name": "python",
      "nbconvert_exporter": "python",
      "pygments_lexer": "ipython3",
      "version": "3.7.1"
    },
    "colab": {
      "name": "string.ipynb",
      "provenance": [],
      "collapsed_sections": [],
      "include_colab_link": true
    }
  },
  "cells": [
    {
      "cell_type": "markdown",
      "metadata": {
        "id": "view-in-github",
        "colab_type": "text"
      },
      "source": [
        "<a href=\"https://colab.research.google.com/github/Jiyoon724/class2021Spring/blob/main/string.ipynb\" target=\"_parent\"><img src=\"https://colab.research.google.com/assets/colab-badge.svg\" alt=\"Open In Colab\"/></a>"
      ]
    },
    {
      "cell_type": "markdown",
      "metadata": {
        "id": "1K9A2xHS3R9l"
      },
      "source": [
        "#0315 영어음성학응용"
      ]
    },
    {
      "cell_type": "markdown",
      "metadata": {
        "id": "KYljc5ZO3V8T"
      },
      "source": [
        "\r\n",
        "\r\n",
        "> **string 데이터를 다룰 때 유용하게 사용할 수 있는 기능**\r\n",
        "\r\n"
      ]
    },
    {
      "cell_type": "markdown",
      "metadata": {
        "id": "ANdCiGxf4BlN"
      },
      "source": [
        "문자열 안의 개별 character에 대해 대괄호를 사용해서 접근\r\n",
        "\r\n",
        "*왼쪽부터 인덱싱: 0부터 시작,\r\n",
        "\r\n",
        " 오른쪽부터 인덱싱: -1부터 시작 -> reference point에 쉽게 접근할 수 있음\r\n",
        "\r\n",
        "\"문자열\"[a:b] = a번째 자리부터 **b번째 자리 \"전까지\"**\r\n",
        "\r\n",
        "a를 비워두면 처음부터, b를 비워두면 끝까지\r\n",
        "\r\n",
        "len(): 문자열의 길이\r\n",
        "\r\n",
        "* 위 방법은 list의 원소 번호에 대해서도 똑같이 활용 가능"
      ]
    },
    {
      "cell_type": "code",
      "metadata": {
        "id": "q3rAOE-wurKY",
        "outputId": "bb9f9709-7368-4fd8-cb64-fd29c5d827fa"
      },
      "source": [
        "s = 'abcdef'\n",
        "print(s[0], s[5], s[-1], s[-6])\n",
        "print(s[1:3], s[1:], s[:3], s[:])"
      ],
      "execution_count": null,
      "outputs": [
        {
          "output_type": "stream",
          "text": [
            "<class 'str'>\n",
            "a f f a\n",
            "bc bcdef abc abcdef\n"
          ],
          "name": "stdout"
        }
      ]
    },
    {
      "cell_type": "code",
      "metadata": {
        "id": "6gW7LcAjurKe",
        "outputId": "470ab62e-551e-4682-e421-4ceb10ae572f"
      },
      "source": [
        "n = [100, 200, 300]\n",
        "print(n[0], n[2], n[-1], n[-3])\n",
        "print(n[1:2], n[1:], n[:2], n[:])"
      ],
      "execution_count": null,
      "outputs": [
        {
          "output_type": "stream",
          "text": [
            "100 300 300 100\n",
            "[200] [200, 300] [100, 200] [100, 200, 300]\n"
          ],
          "name": "stdout"
        }
      ]
    },
    {
      "cell_type": "code",
      "metadata": {
        "id": "yhH3dnJJurKf",
        "outputId": "89e99b51-f056-4dc4-deba-bf8b757dc4be"
      },
      "source": [
        "len(s)"
      ],
      "execution_count": null,
      "outputs": [
        {
          "output_type": "execute_result",
          "data": {
            "text/plain": [
              "6"
            ]
          },
          "metadata": {
            "tags": []
          },
          "execution_count": 4
        }
      ]
    },
    {
      "cell_type": "markdown",
      "metadata": {
        "id": "dGkuA6RK4-OQ"
      },
      "source": [
        "▼ 연습"
      ]
    },
    {
      "cell_type": "code",
      "metadata": {
        "id": "7aSyGe4m5EWD",
        "outputId": "1c12e486-c44b-4a62-9f24-3c3457d98769",
        "colab": {
          "base_uri": "https://localhost:8080/"
        }
      },
      "source": [
        "dinner=\"나는 오늘 회덮밥을 먹었다.\"\r\n",
        "#변수명으로서 쓸때는 따옴표 없이\r\n",
        "#딕셔너리와 헷갈리지 말 것\r\n",
        "print(\"dinner\"[0])\r\n",
        "print(dinner[0])"
      ],
      "execution_count": 3,
      "outputs": [
        {
          "output_type": "stream",
          "text": [
            "d\n",
            "나\n"
          ],
          "name": "stdout"
        }
      ]
    },
    {
      "cell_type": "code",
      "metadata": {
        "id": "tG7KKIlP5jIv",
        "outputId": "f0c84b7e-a53e-4998-a70f-20d5e1376b94",
        "colab": {
          "base_uri": "https://localhost:8080/"
        }
      },
      "source": [
        "print(len(dinner))\r\n",
        "print(dinner[0:15])\r\n",
        "print(dinner[:])\r\n",
        "print(dinner[3:6])\r\n",
        "print(dinner[-6:-9])\r\n",
        "#->마이너스에서도 순서상 더 앞에 있는 것(-9)부터 입력해야 함\r\n",
        "print(dinner[-9:-6])\r\n",
        "print(dinner[1], dinner[4], dinner[14], dinner[13])"
      ],
      "execution_count": 12,
      "outputs": [
        {
          "output_type": "stream",
          "text": [
            "15\n",
            "나는 오늘 회덮밥을 먹었다.\n",
            "나는 오늘 회덮밥을 먹었다.\n",
            "오늘 \n",
            "\n",
            "회덮밥\n",
            "는 늘 . 다\n"
          ],
          "name": "stdout"
        }
      ]
    },
    {
      "cell_type": "markdown",
      "metadata": {
        "id": "NYgGWMf08LjT"
      },
      "source": [
        "**문자열 상의 연산**\r\n",
        "\r\n",
        "+는 붙이기, *는 반복"
      ]
    },
    {
      "cell_type": "code",
      "metadata": {
        "id": "CuIxLEgWurKf",
        "outputId": "c4761aae-98cc-49d9-ba14-b29539b23da2"
      },
      "source": [
        "s[1]+s[3]+s[4:]*10"
      ],
      "execution_count": null,
      "outputs": [
        {
          "output_type": "execute_result",
          "data": {
            "text/plain": [
              "'bdefefefefefefefefefef'"
            ]
          },
          "metadata": {
            "tags": []
          },
          "execution_count": 5
        }
      ]
    },
    {
      "cell_type": "markdown",
      "metadata": {
        "id": "OWxUa6cB8yL1"
      },
      "source": [
        "▼ 연습"
      ]
    },
    {
      "cell_type": "code",
      "metadata": {
        "id": "EtzdzR_v8xgJ",
        "outputId": "1df4e353-f673-4161-c71a-8acd84dc6cba",
        "colab": {
          "base_uri": "https://localhost:8080/"
        }
      },
      "source": [
        "d=dinner=\"나는 오늘 회덮밥을 먹었다.\"\r\n",
        "#글자 순서, '전까지' 다시 주의\r\n",
        "cal=d[6]*3+d[7:9]*3\r\n",
        "print(cal)\r\n",
        "print(len(cal))"
      ],
      "execution_count": 2,
      "outputs": [
        {
          "output_type": "stream",
          "text": [
            "회회회덮밥덮밥덮밥\n",
            "9\n"
          ],
          "name": "stdout"
        }
      ]
    },
    {
      "cell_type": "code",
      "metadata": {
        "id": "NRuxr7yc9UM8",
        "outputId": "35cc293c-a1e0-408d-8eda-ffdae54c876a",
        "colab": {
          "base_uri": "https://localhost:8080/",
          "height": 34
        }
      },
      "source": [
        "#숫자 세기, 스페이스, '전까지', 갯수 세기 주의\r\n",
        "d[3:5]+d[6:9]"
      ],
      "execution_count": 17,
      "outputs": [
        {
          "output_type": "execute_result",
          "data": {
            "application/vnd.google.colaboratory.intrinsic+json": {
              "type": "string"
            },
            "text/plain": [
              "'오늘회덮밥'"
            ]
          },
          "metadata": {
            "tags": []
          },
          "execution_count": 17
        }
      ]
    },
    {
      "cell_type": "markdown",
      "metadata": {
        "id": "b65zt4bHAHqH"
      },
      "source": [
        "**.upper()**: 대문자로\r\n",
        "\r\n",
        "**\\n**: 엔터(*print 안에 넣어야 출력됨!)"
      ]
    },
    {
      "cell_type": "code",
      "metadata": {
        "id": "B-4Qj7h5urKg",
        "outputId": "df319b55-b2fa-4fe2-d125-b487ac8f2f5e"
      },
      "source": [
        "s.upper()"
      ],
      "execution_count": null,
      "outputs": [
        {
          "output_type": "execute_result",
          "data": {
            "text/plain": [
              "'ABCDEF'"
            ]
          },
          "metadata": {
            "tags": []
          },
          "execution_count": 7
        }
      ]
    },
    {
      "cell_type": "code",
      "metadata": {
        "id": "NH4kiUqBurKg",
        "outputId": "c03bfd55-2655-4b3d-f437-6abd57d1ccc3"
      },
      "source": [
        "s = ' this is a house built this year.\\n' \t\n",
        "s"
      ],
      "execution_count": null,
      "outputs": [
        {
          "output_type": "execute_result",
          "data": {
            "text/plain": [
              "' this is a house built this year.\\n'"
            ]
          },
          "metadata": {
            "tags": []
          },
          "execution_count": 10
        }
      ]
    },
    {
      "cell_type": "markdown",
      "metadata": {
        "id": "nSO-oDQyAkO9"
      },
      "source": [
        "▼ 연습"
      ]
    },
    {
      "cell_type": "code",
      "metadata": {
        "id": "oPq_ZSF2AsO0",
        "outputId": "c1e5a440-721c-404a-a3d4-798a17d4fab2",
        "colab": {
          "base_uri": "https://localhost:8080/"
        }
      },
      "source": [
        "a=\"hello!\"\r\n",
        "print(a.upper())"
      ],
      "execution_count": 19,
      "outputs": [
        {
          "output_type": "stream",
          "text": [
            "HELLO!\n"
          ],
          "name": "stdout"
        }
      ]
    },
    {
      "cell_type": "code",
      "metadata": {
        "id": "s6k4XPlkB50U",
        "outputId": "07dccde5-0982-4b74-c456-79ec3366dbd7",
        "colab": {
          "base_uri": "https://localhost:8080/",
          "height": 34
        }
      },
      "source": [
        "\"Hello\".upper()"
      ],
      "execution_count": 20,
      "outputs": [
        {
          "output_type": "execute_result",
          "data": {
            "application/vnd.google.colaboratory.intrinsic+json": {
              "type": "string"
            },
            "text/plain": [
              "'HELLO'"
            ]
          },
          "metadata": {
            "tags": []
          },
          "execution_count": 20
        }
      ]
    },
    {
      "cell_type": "code",
      "metadata": {
        "id": "0p6mWn3kEzBp",
        "outputId": "e98a9799-8d6f-46e1-a935-06782397364a",
        "colab": {
          "base_uri": "https://localhost:8080/",
          "height": 34
        }
      },
      "source": [
        "'I have to wake up early next morning.'.upper()"
      ],
      "execution_count": 21,
      "outputs": [
        {
          "output_type": "execute_result",
          "data": {
            "application/vnd.google.colaboratory.intrinsic+json": {
              "type": "string"
            },
            "text/plain": [
              "'I HAVE TO WAKE UP EARLY NEXT MORNING.'"
            ]
          },
          "metadata": {
            "tags": []
          },
          "execution_count": 21
        }
      ]
    },
    {
      "cell_type": "code",
      "metadata": {
        "id": "fyMgjSfCE6vY",
        "outputId": "619ca66f-318c-44e5-d995-a1fcdbe73d8e",
        "colab": {
          "base_uri": "https://localhost:8080/",
          "height": 34
        }
      },
      "source": [
        "\"I went to bed late yesterday.\\nSo I woke up late this morning.\""
      ],
      "execution_count": 22,
      "outputs": [
        {
          "output_type": "execute_result",
          "data": {
            "application/vnd.google.colaboratory.intrinsic+json": {
              "type": "string"
            },
            "text/plain": [
              "'I went to bed late yesterday.\\nSo I woke up late this morning.'"
            ]
          },
          "metadata": {
            "tags": []
          },
          "execution_count": 22
        }
      ]
    },
    {
      "cell_type": "code",
      "metadata": {
        "id": "ItK2ouyeFFcR",
        "outputId": "596b5af9-563c-46b7-9711-1eafca70cec9",
        "colab": {
          "base_uri": "https://localhost:8080/"
        }
      },
      "source": [
        "print(\"I went to bed late yesterday.\\nSo I woke up late this morning.\")"
      ],
      "execution_count": 23,
      "outputs": [
        {
          "output_type": "stream",
          "text": [
            "I went to bed late yesterday.\n",
            "So I woke up late this morning.\n"
          ],
          "name": "stdout"
        }
      ]
    },
    {
      "cell_type": "markdown",
      "metadata": {
        "id": "DcK4CR9hFQ3R"
      },
      "source": [
        "**find**"
      ]
    },
    {
      "cell_type": "markdown",
      "metadata": {
        "id": "JvbMTzMT2y_H"
      },
      "source": [
        "find 함수: 논항으로 문자열을 입력하면, 해당 문자열이 처음으로 등장하는 index 번호를 출력해줌.\r\n",
        "\r\n",
        "*문자열을 찾을 수 없다면, -1 출력\r\n",
        "\r\n",
        "index 함수: find 함수와 똑같지만 문자열 찾을 수 없으면 ValueError 출력"
      ]
    },
    {
      "cell_type": "code",
      "metadata": {
        "id": "fLQKJxqgurKg",
        "outputId": "e1204f00-5566-4d14-978b-dce29c16380f",
        "colab": {
          "base_uri": "https://localhost:8080/"
        }
      },
      "source": [
        "s = 'this is a house built this year.\\n'\n",
        "result = s.find('house') \t    # index of first instance of string t inside s (-1 if not found)\n",
        "result"
      ],
      "execution_count": 27,
      "outputs": [
        {
          "output_type": "execute_result",
          "data": {
            "text/plain": [
              "10"
            ]
          },
          "metadata": {
            "tags": []
          },
          "execution_count": 27
        }
      ]
    },
    {
      "cell_type": "code",
      "metadata": {
        "id": "q8gAMAnFurKh",
        "outputId": "77be1efa-1120-403e-93b4-1597cc2bbc36",
        "colab": {
          "base_uri": "https://localhost:8080/"
        }
      },
      "source": [
        "result = s.find('this')\t    # index of last instance of string t inside s (-1 if not found)\n",
        "result"
      ],
      "execution_count": 28,
      "outputs": [
        {
          "output_type": "execute_result",
          "data": {
            "text/plain": [
              "0"
            ]
          },
          "metadata": {
            "tags": []
          },
          "execution_count": 28
        }
      ]
    },
    {
      "cell_type": "markdown",
      "metadata": {
        "id": "MNPLPhZq3aow"
      },
      "source": [
        "▼ 연습"
      ]
    },
    {
      "cell_type": "code",
      "metadata": {
        "id": "Adad80Z_3Z7P",
        "outputId": "3cc8587e-593d-4329-8ae8-70951e744af6",
        "colab": {
          "base_uri": "https://localhost:8080/"
        }
      },
      "source": [
        "p1 = \"The time is late now.\"\r\n",
        "r1 = p1.find('t')\r\n",
        "print(r1)\r\n",
        "#대소문자 구별\r\n",
        "r2 = p1.find(\"T\")\r\n",
        "print(r2)\r\n",
        "r3 = p1.find(\"The\")\r\n",
        "print(r3)\r\n",
        "r4 = p1.find(\"now\")\r\n",
        "print(r4)"
      ],
      "execution_count": 9,
      "outputs": [
        {
          "output_type": "stream",
          "text": [
            "4\n",
            "0\n",
            "0\n",
            "17\n"
          ],
          "name": "stdout"
        }
      ]
    },
    {
      "cell_type": "code",
      "metadata": {
        "id": "5WK6x8S0-Kmk",
        "outputId": "849a60f1-7210-43a1-aee3-ed57bc40311e",
        "colab": {
          "base_uri": "https://localhost:8080/"
        }
      },
      "source": [
        "p1 = \"The time is late now.\"\r\n",
        "r1 = p1.index('t')\r\n",
        "print(r1)\r\n",
        "#대소문자 구별\r\n",
        "r2 = p1.index(\"T\")\r\n",
        "print(r2)\r\n",
        "r3 = p1.index(\"The\")\r\n",
        "print(r3)\r\n",
        "r4 = p1.index(\"now\")\r\n",
        "print(r4)"
      ],
      "execution_count": 12,
      "outputs": [
        {
          "output_type": "stream",
          "text": [
            "4\n",
            "0\n",
            "0\n",
            "17\n"
          ],
          "name": "stdout"
        }
      ]
    },
    {
      "cell_type": "code",
      "metadata": {
        "id": "gCaqqDqI9nDQ",
        "outputId": "64892924-7e71-4765-cd85-3e470d497c42",
        "colab": {
          "base_uri": "https://localhost:8080/"
        }
      },
      "source": [
        "p1.find(\"hello\")"
      ],
      "execution_count": 10,
      "outputs": [
        {
          "output_type": "execute_result",
          "data": {
            "text/plain": [
              "-1"
            ]
          },
          "metadata": {
            "tags": []
          },
          "execution_count": 10
        }
      ]
    },
    {
      "cell_type": "code",
      "metadata": {
        "id": "ZOYQ8Mdr-TaE",
        "outputId": "461cdaa8-b300-4289-aa50-80d4f45c6d44",
        "colab": {
          "base_uri": "https://localhost:8080/",
          "height": 168
        }
      },
      "source": [
        "p1.index(\"hello\")"
      ],
      "execution_count": 13,
      "outputs": [
        {
          "output_type": "error",
          "ename": "ValueError",
          "evalue": "ignored",
          "traceback": [
            "\u001b[0;31m---------------------------------------------------------------------------\u001b[0m",
            "\u001b[0;31mValueError\u001b[0m                                Traceback (most recent call last)",
            "\u001b[0;32m<ipython-input-13-c7fd1f4e4377>\u001b[0m in \u001b[0;36m<module>\u001b[0;34m()\u001b[0m\n\u001b[0;32m----> 1\u001b[0;31m \u001b[0mp1\u001b[0m\u001b[0;34m.\u001b[0m\u001b[0mindex\u001b[0m\u001b[0;34m(\u001b[0m\u001b[0;34m\"hello\"\u001b[0m\u001b[0;34m)\u001b[0m\u001b[0;34m\u001b[0m\u001b[0;34m\u001b[0m\u001b[0m\n\u001b[0m",
            "\u001b[0;31mValueError\u001b[0m: substring not found"
          ]
        }
      ]
    },
    {
      "cell_type": "code",
      "metadata": {
        "id": "nNC7_vuY9rhx",
        "outputId": "49ac1c18-5698-4299-9ee2-f5c8e096aec4",
        "colab": {
          "base_uri": "https://localhost:8080/"
        }
      },
      "source": [
        "p1.find(\"the\")"
      ],
      "execution_count": 14,
      "outputs": [
        {
          "output_type": "execute_result",
          "data": {
            "text/plain": [
              "-1"
            ]
          },
          "metadata": {
            "tags": []
          },
          "execution_count": 14
        }
      ]
    },
    {
      "cell_type": "code",
      "metadata": {
        "id": "J4fxsQ2C-Xd7",
        "outputId": "12fbf35a-97e1-4bf3-f3ad-a50ae76821df",
        "colab": {
          "base_uri": "https://localhost:8080/",
          "height": 168
        }
      },
      "source": [
        "p1.index(\"the\")"
      ],
      "execution_count": 15,
      "outputs": [
        {
          "output_type": "error",
          "ename": "ValueError",
          "evalue": "ignored",
          "traceback": [
            "\u001b[0;31m---------------------------------------------------------------------------\u001b[0m",
            "\u001b[0;31mValueError\u001b[0m                                Traceback (most recent call last)",
            "\u001b[0;32m<ipython-input-15-49b6d801a9a6>\u001b[0m in \u001b[0;36m<module>\u001b[0;34m()\u001b[0m\n\u001b[0;32m----> 1\u001b[0;31m \u001b[0mp1\u001b[0m\u001b[0;34m.\u001b[0m\u001b[0mindex\u001b[0m\u001b[0;34m(\u001b[0m\u001b[0;34m\"the\"\u001b[0m\u001b[0;34m)\u001b[0m\u001b[0;34m\u001b[0m\u001b[0;34m\u001b[0m\u001b[0m\n\u001b[0m",
            "\u001b[0;31mValueError\u001b[0m: substring not found"
          ]
        }
      ]
    },
    {
      "cell_type": "code",
      "metadata": {
        "id": "XUFuemGB_tsw",
        "outputId": "768a38ea-bb4a-4475-a449-63b969682bed",
        "colab": {
          "base_uri": "https://localhost:8080/"
        }
      },
      "source": [
        "p1.find(\"\")"
      ],
      "execution_count": 23,
      "outputs": [
        {
          "output_type": "execute_result",
          "data": {
            "text/plain": [
              "0"
            ]
          },
          "metadata": {
            "tags": []
          },
          "execution_count": 23
        }
      ]
    },
    {
      "cell_type": "code",
      "metadata": {
        "id": "ewdlak-Y_v1d",
        "outputId": "0941594c-a30a-451f-952d-d6524ebc5213",
        "colab": {
          "base_uri": "https://localhost:8080/"
        }
      },
      "source": [
        "p1.index(\"\")"
      ],
      "execution_count": 24,
      "outputs": [
        {
          "output_type": "execute_result",
          "data": {
            "text/plain": [
              "0"
            ]
          },
          "metadata": {
            "tags": []
          },
          "execution_count": 24
        }
      ]
    },
    {
      "cell_type": "markdown",
      "metadata": {
        "id": "ke9gL-Q79uCC"
      },
      "source": [
        "rindex: 그 문자가 **마지막으로 나오는 부분이 시작하는** index 번호 출력\r\n",
        "\r\n",
        "*문자열을 찾을 수 없는 경우 index 함수와 마찬가지로 ValueError 출력"
      ]
    },
    {
      "cell_type": "code",
      "metadata": {
        "id": "hEP3BGLIurKh",
        "outputId": "a62e6a3a-eb2d-4333-cb13-7cac15ed6451"
      },
      "source": [
        "result = s.rindex('this')        # like s.find(t) except it raises ValueError if not found\n",
        "result"
      ],
      "execution_count": null,
      "outputs": [
        {
          "output_type": "execute_result",
          "data": {
            "text/plain": [
              "23"
            ]
          },
          "metadata": {
            "tags": []
          },
          "execution_count": 13
        }
      ]
    },
    {
      "cell_type": "markdown",
      "metadata": {
        "id": "KaqfV4my-wRS"
      },
      "source": [
        "▼ 연습"
      ]
    },
    {
      "cell_type": "code",
      "metadata": {
        "id": "E2zgihKy-zX0",
        "outputId": "5f5fb954-33c7-4fbb-930a-3b04b2eb1a54",
        "colab": {
          "base_uri": "https://localhost:8080/"
        }
      },
      "source": [
        "r1 = \"Hello\"\r\n",
        "print(r1.rindex(\"l\"))\r\n",
        "print(r1.rindex(\"Hello\"))"
      ],
      "execution_count": 18,
      "outputs": [
        {
          "output_type": "stream",
          "text": [
            "3\n",
            "0\n"
          ],
          "name": "stdout"
        }
      ]
    },
    {
      "cell_type": "code",
      "metadata": {
        "id": "V89E_un1_FNo",
        "outputId": "fca2ee98-d057-4a2a-ee04-d5bbac834b55",
        "colab": {
          "base_uri": "https://localhost:8080/"
        }
      },
      "source": [
        "r2 = \"Hello Hello Hello\"\r\n",
        "print(len(r2))"
      ],
      "execution_count": 19,
      "outputs": [
        {
          "output_type": "stream",
          "text": [
            "17\n"
          ],
          "name": "stdout"
        }
      ]
    },
    {
      "cell_type": "code",
      "metadata": {
        "id": "vAHpCORf_WaV",
        "outputId": "90b72de4-2729-49c4-ae40-f550b6c9e0eb",
        "colab": {
          "base_uri": "https://localhost:8080/"
        }
      },
      "source": [
        "print(r2.rindex(\"Hello\"))"
      ],
      "execution_count": 20,
      "outputs": [
        {
          "output_type": "stream",
          "text": [
            "12\n"
          ],
          "name": "stdout"
        }
      ]
    },
    {
      "cell_type": "code",
      "metadata": {
        "id": "oK8CbAVs_iAW",
        "outputId": "227a9e26-d834-407a-d70c-2d91608796d1",
        "colab": {
          "base_uri": "https://localhost:8080/"
        }
      },
      "source": [
        "print(r2.rindex(\"e\"))"
      ],
      "execution_count": 21,
      "outputs": [
        {
          "output_type": "stream",
          "text": [
            "13\n"
          ],
          "name": "stdout"
        }
      ]
    },
    {
      "cell_type": "code",
      "metadata": {
        "id": "s89pAGOk_oWc",
        "outputId": "8ca23dff-8c41-4d7e-f5c4-107a2b5ecbf9",
        "colab": {
          "base_uri": "https://localhost:8080/"
        }
      },
      "source": [
        "print(r2.rindex(\"\"))"
      ],
      "execution_count": 22,
      "outputs": [
        {
          "output_type": "stream",
          "text": [
            "17\n"
          ],
          "name": "stdout"
        }
      ]
    },
    {
      "cell_type": "code",
      "metadata": {
        "id": "x512TLL6_yrq",
        "outputId": "d6f21e0d-f6c6-4d6a-eb0a-61ced298d159",
        "colab": {
          "base_uri": "https://localhost:8080/"
        }
      },
      "source": [
        "print(r2.rindex(\" \"))"
      ],
      "execution_count": 25,
      "outputs": [
        {
          "output_type": "stream",
          "text": [
            "11\n"
          ],
          "name": "stdout"
        }
      ]
    },
    {
      "cell_type": "markdown",
      "metadata": {
        "id": "uW1nKoxR_6mg"
      },
      "source": [
        "**strip**\r\n",
        "\r\n",
        "앞뒤 공백 제거"
      ]
    },
    {
      "cell_type": "code",
      "metadata": {
        "id": "CpFnxuosurKh",
        "outputId": "b8e27bc2-845d-4667-b5e9-006cef0216cf"
      },
      "source": [
        "s = s.strip()      \t            # a copy of s without leading or trailing whitespace\n",
        "s"
      ],
      "execution_count": null,
      "outputs": [
        {
          "output_type": "execute_result",
          "data": {
            "text/plain": [
              "'this is a house built this year.'"
            ]
          },
          "metadata": {
            "tags": []
          },
          "execution_count": 14
        }
      ]
    },
    {
      "cell_type": "markdown",
      "metadata": {
        "id": "PF8XP2QvARO_"
      },
      "source": [
        "▼ 연습"
      ]
    },
    {
      "cell_type": "code",
      "metadata": {
        "id": "bIv3soj9APeO",
        "outputId": "3bc0e1bf-2d3c-45f9-f674-c5ee431471f6",
        "colab": {
          "base_uri": "https://localhost:8080/",
          "height": 34
        }
      },
      "source": [
        "ex = \"  Hello, nice to meet you     \"\r\n",
        "ex.strip()"
      ],
      "execution_count": 26,
      "outputs": [
        {
          "output_type": "execute_result",
          "data": {
            "application/vnd.google.colaboratory.intrinsic+json": {
              "type": "string"
            },
            "text/plain": [
              "'Hello, nice to meet you'"
            ]
          },
          "metadata": {
            "tags": []
          },
          "execution_count": 26
        }
      ]
    },
    {
      "cell_type": "markdown",
      "metadata": {
        "id": "ueTmvgPKAhWv"
      },
      "source": [
        "**split**\r\n",
        "\r\n",
        "논항의 값을 기준으로 분리해서 리스트에 저장"
      ]
    },
    {
      "cell_type": "code",
      "metadata": {
        "id": "2upnpA4aurKi",
        "outputId": "a18d13c9-a9af-4bfc-f6aa-c1544753e4d7"
      },
      "source": [
        "tokens = s.split(' ')\t        # split s into a list wherever a t is found (whitespace by default)\n",
        "tokens"
      ],
      "execution_count": null,
      "outputs": [
        {
          "output_type": "execute_result",
          "data": {
            "text/plain": [
              "['this', 'is', 'a', 'house', 'built', 'this', 'year.']"
            ]
          },
          "metadata": {
            "tags": []
          },
          "execution_count": 15
        }
      ]
    },
    {
      "cell_type": "markdown",
      "metadata": {
        "id": "aahZz-QGBd9K"
      },
      "source": [
        "▼ 연습"
      ]
    },
    {
      "cell_type": "code",
      "metadata": {
        "id": "EMGBvbX1Bef7",
        "outputId": "21ce5b22-d7c2-4660-fdea-bbb701dc9410",
        "colab": {
          "base_uri": "https://localhost:8080/"
        }
      },
      "source": [
        "ex = \"  Hello, nice to meet you     \"\r\n",
        "ex=ex.strip()\r\n",
        "#split 함수의 논항은 비워두면 ValueError\r\n",
        "ex1=ex.split(\" \")\r\n",
        "print(ex)\r\n",
        "ex2=ex.split(\"o\")\r\n",
        "print(ex2)\r\n",
        "#->분리하는 기준이 된 문자는 사라짐\r\n",
        "ex3=ex.split(\"nice\")\r\n",
        "print(ex3)"
      ],
      "execution_count": 33,
      "outputs": [
        {
          "output_type": "stream",
          "text": [
            "Hello, nice to meet you\n",
            "['Hell', ', nice t', ' meet y', 'u']\n",
            "['Hello, ', ' to meet you']\n"
          ],
          "name": "stdout"
        }
      ]
    },
    {
      "cell_type": "markdown",
      "metadata": {
        "id": "ri4T531oCO6s"
      },
      "source": [
        "**join**\r\n",
        "a.join(b)라고 하면 b 각각의 문자 사이에 a를 삽입한다."
      ]
    },
    {
      "cell_type": "code",
      "metadata": {
        "id": "HIUkcuqaurKi",
        "outputId": "b795e3ba-6271-4b95-b3d0-0dca7864e9c4"
      },
      "source": [
        "s = ' '.join(tokens)\t        # combine the words of the text into a string using s as the glue\n",
        "s"
      ],
      "execution_count": null,
      "outputs": [
        {
          "output_type": "execute_result",
          "data": {
            "text/plain": [
              "'this is a house built this year.'"
            ]
          },
          "metadata": {
            "tags": []
          },
          "execution_count": 16
        }
      ]
    },
    {
      "cell_type": "markdown",
      "metadata": {
        "id": "gkNkvudZC-0q"
      },
      "source": [
        "▼ 연습"
      ]
    },
    {
      "cell_type": "code",
      "metadata": {
        "id": "9CpxbvaaC_41",
        "outputId": "6f50310a-4307-46ad-ed39-e838a6205802",
        "colab": {
          "base_uri": "https://localhost:8080/",
          "height": 34
        }
      },
      "source": [
        "\"a\".join(\"Hello\")"
      ],
      "execution_count": 34,
      "outputs": [
        {
          "output_type": "execute_result",
          "data": {
            "application/vnd.google.colaboratory.intrinsic+json": {
              "type": "string"
            },
            "text/plain": [
              "'Haealalao'"
            ]
          },
          "metadata": {
            "tags": []
          },
          "execution_count": 34
        }
      ]
    },
    {
      "cell_type": "code",
      "metadata": {
        "id": "TAi3jD4jD8su",
        "outputId": "0cf57727-e1c4-4159-a158-44cf000b1a79",
        "colab": {
          "base_uri": "https://localhost:8080/",
          "height": 168
        }
      },
      "source": [
        "\"a\".join(1234)"
      ],
      "execution_count": 35,
      "outputs": [
        {
          "output_type": "error",
          "ename": "TypeError",
          "evalue": "ignored",
          "traceback": [
            "\u001b[0;31m---------------------------------------------------------------------------\u001b[0m",
            "\u001b[0;31mTypeError\u001b[0m                                 Traceback (most recent call last)",
            "\u001b[0;32m<ipython-input-35-e14582b55797>\u001b[0m in \u001b[0;36m<module>\u001b[0;34m()\u001b[0m\n\u001b[0;32m----> 1\u001b[0;31m \u001b[0;34m\"a\"\u001b[0m\u001b[0;34m.\u001b[0m\u001b[0mjoin\u001b[0m\u001b[0;34m(\u001b[0m\u001b[0;36m1234\u001b[0m\u001b[0;34m)\u001b[0m\u001b[0;34m\u001b[0m\u001b[0;34m\u001b[0m\u001b[0m\n\u001b[0m",
            "\u001b[0;31mTypeError\u001b[0m: can only join an iterable"
          ]
        }
      ]
    },
    {
      "cell_type": "code",
      "metadata": {
        "id": "tkTZQzl2EfYf",
        "outputId": "52163e3d-ae7b-4da6-8f6f-1e045781bd41",
        "colab": {
          "base_uri": "https://localhost:8080/",
          "height": 34
        }
      },
      "source": [
        "#\"사이에\" 삽입\r\n",
        "\"a\".join([])"
      ],
      "execution_count": 36,
      "outputs": [
        {
          "output_type": "execute_result",
          "data": {
            "application/vnd.google.colaboratory.intrinsic+json": {
              "type": "string"
            },
            "text/plain": [
              "''"
            ]
          },
          "metadata": {
            "tags": []
          },
          "execution_count": 36
        }
      ]
    },
    {
      "cell_type": "code",
      "metadata": {
        "id": "Kg-TEQnMErws",
        "outputId": "b3afc49c-0ee9-4258-ab6c-cf400a89a50c",
        "colab": {
          "base_uri": "https://localhost:8080/",
          "height": 34
        }
      },
      "source": [
        "#리스트나 튜플도 입력 가능 -> 이어진 하나의 문자열로 출력\r\n",
        "\"a\".join([\"1\",\"2\",\"3\"])"
      ],
      "execution_count": 37,
      "outputs": [
        {
          "output_type": "execute_result",
          "data": {
            "application/vnd.google.colaboratory.intrinsic+json": {
              "type": "string"
            },
            "text/plain": [
              "'1a2a3'"
            ]
          },
          "metadata": {
            "tags": []
          },
          "execution_count": 37
        }
      ]
    },
    {
      "cell_type": "code",
      "metadata": {
        "id": "eZYq1KjCFiru",
        "outputId": "f225e34d-d9b9-4b98-9e7c-a374df17abd4",
        "colab": {
          "base_uri": "https://localhost:8080/",
          "height": 34
        }
      },
      "source": [
        "\"a\".join((\"1\",\"2\",\"3\"))"
      ],
      "execution_count": 39,
      "outputs": [
        {
          "output_type": "execute_result",
          "data": {
            "application/vnd.google.colaboratory.intrinsic+json": {
              "type": "string"
            },
            "text/plain": [
              "'1a2a3'"
            ]
          },
          "metadata": {
            "tags": []
          },
          "execution_count": 39
        }
      ]
    },
    {
      "cell_type": "code",
      "metadata": {
        "id": "yl4B63AHF_d1",
        "outputId": "2c72a4a4-ac2e-4f71-9127-047f44a32506",
        "colab": {
          "base_uri": "https://localhost:8080/",
          "height": 186
        }
      },
      "source": [
        "#join 함수는 하나의 논항만 받음\r\n",
        "\"a\".join(\"1\",\"2\")"
      ],
      "execution_count": 41,
      "outputs": [
        {
          "output_type": "error",
          "ename": "TypeError",
          "evalue": "ignored",
          "traceback": [
            "\u001b[0;31m---------------------------------------------------------------------------\u001b[0m",
            "\u001b[0;31mTypeError\u001b[0m                                 Traceback (most recent call last)",
            "\u001b[0;32m<ipython-input-41-f8bdc69fc901>\u001b[0m in \u001b[0;36m<module>\u001b[0;34m()\u001b[0m\n\u001b[1;32m      1\u001b[0m \u001b[0;31m#join 함수는 하나의 논항만 받음\u001b[0m\u001b[0;34m\u001b[0m\u001b[0;34m\u001b[0m\u001b[0;34m\u001b[0m\u001b[0m\n\u001b[0;32m----> 2\u001b[0;31m \u001b[0;34m\"a\"\u001b[0m\u001b[0;34m.\u001b[0m\u001b[0mjoin\u001b[0m\u001b[0;34m(\u001b[0m\u001b[0;34m\"1\"\u001b[0m\u001b[0;34m,\u001b[0m\u001b[0;34m\"2\"\u001b[0m\u001b[0;34m)\u001b[0m\u001b[0;34m\u001b[0m\u001b[0;34m\u001b[0m\u001b[0m\n\u001b[0m",
            "\u001b[0;31mTypeError\u001b[0m: join() takes exactly one argument (2 given)"
          ]
        }
      ]
    },
    {
      "cell_type": "code",
      "metadata": {
        "id": "e3w0GcoOGJVc",
        "outputId": "ecfa090d-670d-403d-dee1-4a518a4124bb",
        "colab": {
          "base_uri": "https://localhost:8080/",
          "height": 133
        }
      },
      "source": [
        "123.join(\"abc\")"
      ],
      "execution_count": 42,
      "outputs": [
        {
          "output_type": "error",
          "ename": "SyntaxError",
          "evalue": "ignored",
          "traceback": [
            "\u001b[0;36m  File \u001b[0;32m\"<ipython-input-42-16f5a72b1ff5>\"\u001b[0;36m, line \u001b[0;32m1\u001b[0m\n\u001b[0;31m    123.join(\"abc\")\u001b[0m\n\u001b[0m           ^\u001b[0m\n\u001b[0;31mSyntaxError\u001b[0m\u001b[0;31m:\u001b[0m invalid syntax\n"
          ]
        }
      ]
    },
    {
      "cell_type": "code",
      "metadata": {
        "id": "RImsQcEhGTP3",
        "outputId": "254708d4-3899-497d-e6fe-774985c625d4",
        "colab": {
          "base_uri": "https://localhost:8080/",
          "height": 34
        }
      },
      "source": [
        "\"\".join(\"abc\")"
      ],
      "execution_count": 43,
      "outputs": [
        {
          "output_type": "execute_result",
          "data": {
            "application/vnd.google.colaboratory.intrinsic+json": {
              "type": "string"
            },
            "text/plain": [
              "'abc'"
            ]
          },
          "metadata": {
            "tags": []
          },
          "execution_count": 43
        }
      ]
    },
    {
      "cell_type": "code",
      "metadata": {
        "id": "RByzaM3LGVVK",
        "outputId": "f6227eb4-70ad-4a6a-ffc1-bd8e5c6c709d",
        "colab": {
          "base_uri": "https://localhost:8080/",
          "height": 34
        }
      },
      "source": [
        "\" \".join([\"a\",\"b\",\"c\"])"
      ],
      "execution_count": 44,
      "outputs": [
        {
          "output_type": "execute_result",
          "data": {
            "application/vnd.google.colaboratory.intrinsic+json": {
              "type": "string"
            },
            "text/plain": [
              "'a b c'"
            ]
          },
          "metadata": {
            "tags": []
          },
          "execution_count": 44
        }
      ]
    },
    {
      "cell_type": "code",
      "metadata": {
        "id": "hmpvqu0tHThB",
        "outputId": "367c5293-014d-4f46-8e75-7a4b647aa2c1",
        "colab": {
          "base_uri": "https://localhost:8080/",
          "height": 34
        }
      },
      "source": [
        "#변수도 argument로 받을 수 있음\r\n",
        "last=\"Hello\"\r\n",
        "\" \".join(last)"
      ],
      "execution_count": 48,
      "outputs": [
        {
          "output_type": "execute_result",
          "data": {
            "application/vnd.google.colaboratory.intrinsic+json": {
              "type": "string"
            },
            "text/plain": [
              "'H e l l o'"
            ]
          },
          "metadata": {
            "tags": []
          },
          "execution_count": 48
        }
      ]
    },
    {
      "cell_type": "markdown",
      "metadata": {
        "id": "oNnUe6wTGhEs"
      },
      "source": [
        "**replace**\r\n",
        "\r\n",
        "변수.replace(\"바뀌는 부분\",\"바꿔 넣을 부분\")"
      ]
    },
    {
      "cell_type": "code",
      "metadata": {
        "id": "NZC37X6eurKi",
        "outputId": "a297beb1-d89c-49a6-a922-258a8d3df5e4"
      },
      "source": [
        "s = s.replace('this', 'that')   # replace instances of t with u inside s\n",
        "s"
      ],
      "execution_count": null,
      "outputs": [
        {
          "output_type": "execute_result",
          "data": {
            "text/plain": [
              "'that is a house built that year.'"
            ]
          },
          "metadata": {
            "tags": []
          },
          "execution_count": 17
        }
      ]
    },
    {
      "cell_type": "markdown",
      "metadata": {
        "id": "sz5IdFRuGvdP"
      },
      "source": [
        "▼ 연습"
      ]
    },
    {
      "cell_type": "code",
      "metadata": {
        "id": "XBbWGp3WG0kr",
        "outputId": "6ac4033e-f771-4a98-b653-1ec251bd8efe",
        "colab": {
          "base_uri": "https://localhost:8080/",
          "height": 34
        }
      },
      "source": [
        "rep=\"I will watch a movie tomorrow\".replace(\"movie\",\"play\")\r\n",
        "rep"
      ],
      "execution_count": 46,
      "outputs": [
        {
          "output_type": "execute_result",
          "data": {
            "application/vnd.google.colaboratory.intrinsic+json": {
              "type": "string"
            },
            "text/plain": [
              "'I will watch a play tomorrow'"
            ]
          },
          "metadata": {
            "tags": []
          },
          "execution_count": 46
        }
      ]
    },
    {
      "cell_type": "code",
      "metadata": {
        "id": "SIj3T9FQHAft",
        "outputId": "e2beb342-5e9b-48d3-81c4-0fd63001ff58",
        "colab": {
          "base_uri": "https://localhost:8080/",
          "height": 168
        }
      },
      "source": [
        "#argument는 string만 가능\r\n",
        "rep.replace(\"tomorrow\",123)"
      ],
      "execution_count": 47,
      "outputs": [
        {
          "output_type": "error",
          "ename": "TypeError",
          "evalue": "ignored",
          "traceback": [
            "\u001b[0;31m---------------------------------------------------------------------------\u001b[0m",
            "\u001b[0;31mTypeError\u001b[0m                                 Traceback (most recent call last)",
            "\u001b[0;32m<ipython-input-47-fd821bc403d6>\u001b[0m in \u001b[0;36m<module>\u001b[0;34m()\u001b[0m\n\u001b[0;32m----> 1\u001b[0;31m \u001b[0mrep\u001b[0m\u001b[0;34m.\u001b[0m\u001b[0mreplace\u001b[0m\u001b[0;34m(\u001b[0m\u001b[0;34m\"tomorrow\"\u001b[0m\u001b[0;34m,\u001b[0m\u001b[0;36m123\u001b[0m\u001b[0;34m)\u001b[0m\u001b[0;34m\u001b[0m\u001b[0;34m\u001b[0m\u001b[0m\n\u001b[0m",
            "\u001b[0;31mTypeError\u001b[0m: replace() argument 2 must be str, not int"
          ]
        }
      ]
    }
  ]
}