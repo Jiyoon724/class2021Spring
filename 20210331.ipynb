{
  "nbformat": 4,
  "nbformat_minor": 0,
  "metadata": {
    "colab": {
      "name": "20210331",
      "provenance": [],
      "authorship_tag": "ABX9TyNlacYnQ6UoIbUuecuQWAgW",
      "include_colab_link": true
    },
    "kernelspec": {
      "name": "python3",
      "display_name": "Python 3"
    },
    "language_info": {
      "name": "python"
    }
  },
  "cells": [
    {
      "cell_type": "markdown",
      "metadata": {
        "id": "view-in-github",
        "colab_type": "text"
      },
      "source": [
        "<a href=\"https://colab.research.google.com/github/Jiyoon724/class2021Spring/blob/main/20210331.ipynb\" target=\"_parent\"><img src=\"https://colab.research.google.com/assets/colab-badge.svg\" alt=\"Open In Colab\"/></a>"
      ]
    },
    {
      "cell_type": "markdown",
      "metadata": {
        "id": "akD8GHT05Qkn"
      },
      "source": [
        "> **아**\n",
        "\n",
        "pitch: 221.8Hz\n",
        "\n",
        "intensity: 62.55dB\n",
        "\n",
        "formant: first) 905.9Hz, second) 1531Hz\n",
        "\n",
        "duration: 0.687672ms\n",
        "\n",
        "> **애**\n",
        "\n",
        "pitch: 227.6Hz\n",
        "\n",
        "intensity: 63.84dB\n",
        "\n",
        "formant: first) 697.6Hz, second) 2503Hz\n",
        "\n",
        "duration: 0.678623ms"
      ]
    }
  ]
}